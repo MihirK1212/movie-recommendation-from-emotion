{
  "nbformat": 4,
  "nbformat_minor": 0,
  "metadata": {
    "colab": {
      "name": "Train_Emotion_Detector.ipynb",
      "provenance": []
    },
    "kernelspec": {
      "name": "python3",
      "display_name": "Python 3"
    },
    "language_info": {
      "name": "python"
    }
  },
  "cells": [
    {
      "cell_type": "code",
      "metadata": {
        "id": "owWv5UOL11xD"
      },
      "source": [
        "import tensorflow as tf \n",
        "import cv2 \n",
        "import os\n",
        "import numpy as np\n",
        "import matplotlib.pyplot as plt\n",
        "from tensorflow import keras\n",
        "from tensorflow.python.keras.utils import generic_utils\n",
        "from tensorflow.keras import models\n",
        "from tensorflow.keras import layers"
      ],
      "execution_count": null,
      "outputs": []
    },
    {
      "cell_type": "code",
      "metadata": {
        "id": "cRbrgenz162k"
      },
      "source": [
        "DataDirectory=\"C:\\Mihir\\Projects\\Emotion Detector+Movie Recommendation+Review Analysis\\Image Dataset\\Train\"\n",
        "Classes=[\"Happy\",\"Sad\",\"Scared\"]\n",
        "\n",
        "training_Data= []\n",
        "\n",
        "img_size=224\n",
        "\n",
        "def Create_Training_Data():\n",
        "    for category in Classes:\n",
        "        path=os.path.join(DataDirectory,category)\n",
        "        class_num=Classes.index(category)  #0,1,2....Labels\n",
        "        for img in os.listdir(path):\n",
        "            try:\n",
        "                img_array=cv2.imread(os.path.join(path,img))\n",
        "                new_array=cv2.resize(img_array,(img_size,img_size))\n",
        "                training_Data.append([new_array,class_num])\n",
        "            except Exception as e:\n",
        "                pass\n",
        "\n",
        "\n",
        "Create_Training_Data()\n",
        "\n",
        "import random\n",
        "random.shuffle(training_Data)\n",
        "\n",
        "X=[] #A list\n",
        "y=[] #A list\n",
        "\n",
        "for features,label in training_Data:\n",
        "    X.append(features)\n",
        "    y.append(label)\n",
        "\n",
        "X=np.array(X).reshape(-1,img_size,img_size,3)  #Design Matrix size (shape= #no.of.images x pixels x pixels x 3)  \n",
        "                                               #We put-1 so as to automatically detect the number of images\n",
        "\n",
        "#Normalize the data\n",
        "X=X/255.0 #Other way to normalize=Using scikit learn\n",
        "\n",
        "Y=np.array(y) #Label Matrix (shape= #no.of.images x 1 )\n",
        "\n",
        "#X.shape"
      ],
      "execution_count": null,
      "outputs": []
    },
    {
      "cell_type": "code",
      "metadata": {
        "id": "HhKkvJZ32DC8"
      },
      "source": [
        "model=tf.keras.applications.MobileNetV2() #Pretriained model\n",
        "model.summary()"
      ],
      "execution_count": null,
      "outputs": []
    },
    {
      "cell_type": "code",
      "metadata": {
        "id": "QhvUN-0V7MzY"
      },
      "source": [
        "#Remove/Modify some things in the huge model\n",
        "base_input=model.layers[0].input   #'0' means that for input we are taking the first layer of the model\n",
        "base_output=model.layers[-2].output #Discard the last layer i.e. -1 from the Pretrained model...start from -2\n",
        "\n",
        "final_output=layers.Dense(128)(base_output)\n",
        "final_output=layers.Activation('relu')(final_output)\n",
        "final_output=layers.Dense(64)(final_output)\n",
        "final_output=layers.Activation('relu')(final_output)\n",
        "final_output= layers.Dense(3,activation='softmax')(final_output)  #3 classes"
      ],
      "execution_count": null,
      "outputs": []
    },
    {
      "cell_type": "code",
      "metadata": {
        "id": "OMO90lsy-27Z"
      },
      "source": [
        "new_model=keras.Model(inputs=base_input,outputs=final_output)\n",
        "new_model.summary()"
      ],
      "execution_count": null,
      "outputs": []
    },
    {
      "cell_type": "code",
      "metadata": {
        "id": "C8cIdpT_2FFn"
      },
      "source": [
        "new_model.compile(loss=\"sparse_categorical_crossentropy\",optimizer=\"adam\",metrics=[\"accuracy\"])  #Settings for multi-class classification"
      ],
      "execution_count": null,
      "outputs": []
    },
    {
      "cell_type": "code",
      "metadata": {
        "id": "6C7AQwrw2HZH"
      },
      "source": [
        "new_model.fit(X,Y,epochs=15)"
      ],
      "execution_count": null,
      "outputs": []
    },
    {
      "cell_type": "code",
      "metadata": {
        "id": "2FmJPaxG_7vI"
      },
      "source": [
        "new_model.save('emotion_detector.h5')"
      ],
      "execution_count": null,
      "outputs": []
    },
    {
      "cell_type": "code",
      "metadata": {
        "id": "3gvu6qvB2JRT"
      },
      "source": [
        "#Testing the Model   trained_model.evaluate #For getting metrics on test data set"
      ],
      "execution_count": null,
      "outputs": []
    }
  ]
}
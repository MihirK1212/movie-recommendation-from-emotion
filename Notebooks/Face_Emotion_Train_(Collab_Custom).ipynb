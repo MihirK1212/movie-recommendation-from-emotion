{
  "nbformat": 4,
  "nbformat_minor": 0,
  "metadata": {
    "kernelspec": {
      "language": "python",
      "display_name": "Python 3",
      "name": "python3"
    },
    "language_info": {
      "name": "python",
      "version": "3.7.10",
      "mimetype": "text/x-python",
      "codemirror_mode": {
        "name": "ipython",
        "version": 3
      },
      "pygments_lexer": "ipython3",
      "nbconvert_exporter": "python",
      "file_extension": ".py"
    },
    "colab": {
      "name": "Face Emotion Train (Collab-Custom).ipynb",
      "provenance": []
    }
  },
  "cells": [
    {
      "cell_type": "code",
      "metadata": {
        "id": "owWv5UOL11xD",
        "execution": {
          "iopub.status.busy": "2021-08-03T09:30:56.281944Z",
          "iopub.execute_input": "2021-08-03T09:30:56.282744Z",
          "iopub.status.idle": "2021-08-03T09:31:08.025205Z",
          "shell.execute_reply.started": "2021-08-03T09:30:56.282624Z",
          "shell.execute_reply": "2021-08-03T09:31:08.023752Z"
        },
        "trusted": true
      },
      "source": [
        "!pip install imutils"
      ],
      "execution_count": null,
      "outputs": []
    },
    {
      "cell_type": "code",
      "metadata": {
        "execution": {
          "iopub.status.busy": "2021-08-03T09:31:45.993579Z",
          "iopub.execute_input": "2021-08-03T09:31:45.993963Z",
          "iopub.status.idle": "2021-08-03T09:31:52.712823Z",
          "shell.execute_reply.started": "2021-08-03T09:31:45.993929Z",
          "shell.execute_reply": "2021-08-03T09:31:52.711848Z"
        },
        "trusted": true,
        "id": "1pcxYIH58NtV"
      },
      "source": [
        "import tensorflow as tf \n",
        "import cv2 \n",
        "import os\n",
        "import numpy as np\n",
        "import matplotlib.pyplot as plt\n",
        "from keras.optimizers import RMSprop\n",
        "from keras.preprocessing.image import ImageDataGenerator\n",
        "from keras.models import Sequential\n",
        "from keras.layers import Conv2D, Input, ZeroPadding2D, BatchNormalization, Activation, MaxPooling2D, Flatten, Dense,Dropout\n",
        "from keras.models import Model, load_model\n",
        "from keras.callbacks import TensorBoard, ModelCheckpoint\n",
        "from sklearn.model_selection import train_test_split\n",
        "from sklearn.metrics import f1_score\n",
        "from sklearn.utils import shuffle\n",
        "import imutils"
      ],
      "execution_count": null,
      "outputs": []
    },
    {
      "cell_type": "code",
      "metadata": {
        "id": "RJEZ5mDo8TAl"
      },
      "source": [
        "# Check if NVIDIA GPU is enabled\n",
        "!nvidia-smi"
      ],
      "execution_count": null,
      "outputs": []
    },
    {
      "cell_type": "code",
      "metadata": {
        "id": "DtUstyvB8ZCG"
      },
      "source": [
        "from google.colab import drive\n",
        "drive.mount('/content/gdrive')\n",
        "!ln -s /content/gdrive/My\\ Drive/ /mydrive  #This is to make a short form for the mydrive location \n",
        "!ls /mydrive"
      ],
      "execution_count": null,
      "outputs": []
    },
    {
      "cell_type": "code",
      "metadata": {
        "id": "0xdGajvF9Onj"
      },
      "source": [
        "# !unzip /mydrive/Emotion_Detection/Training_Dataset.zip -d /mydrive/Emotion_Detection/Training_Images "
      ],
      "execution_count": null,
      "outputs": []
    },
    {
      "cell_type": "code",
      "metadata": {
        "id": "YKMkTSqTC4JC"
      },
      "source": [
        "Classes=[\"Happy\",\"Sad\",\"Scared\",\"Surprised\"]\n",
        "\n",
        "model =Sequential([\n",
        "    Conv2D(100, (3,3), activation='relu', input_shape=(150, 150, 3)),\n",
        "    MaxPooling2D(2,2),\n",
        "\n",
        "    Conv2D(100, (3,3), activation='relu'),\n",
        "    MaxPooling2D(2,2),\n",
        "\n",
        "    Flatten(),\n",
        "    Dropout(0.5),\n",
        "    Dense(50, activation='relu'),\n",
        "    Dense(4, activation='softmax')\n",
        "])\n",
        "\n",
        "model.compile(loss=\"categorical_crossentropy\",optimizer=\"adam\",metrics=[\"accuracy\"]) "
      ],
      "execution_count": null,
      "outputs": []
    },
    {
      "cell_type": "code",
      "metadata": {
        "id": "WBg6bxVlC5uk"
      },
      "source": [
        "Training_Directory=\"/mydrive/Emotion_Detection/Training_Images\"\n",
        "\n",
        "train_datagen = ImageDataGenerator(rescale=1.0/255,\n",
        "                                   rotation_range=40,\n",
        "                                   width_shift_range=0.2,\n",
        "                                   height_shift_range=0.2,\n",
        "                                   shear_range=0.2,\n",
        "                                   zoom_range=0.2,\n",
        "                                   horizontal_flip=True,\n",
        "                                   fill_mode='nearest')\n",
        "\n",
        "train_generator = train_datagen.flow_from_directory(Training_Directory,\n",
        "                                                    batch_size=10,\n",
        "                                                    target_size=(150, 150))"
      ],
      "execution_count": null,
      "outputs": []
    },
    {
      "cell_type": "code",
      "metadata": {
        "id": "kN1EXSWjEJcT"
      },
      "source": [
        "history = model.fit(train_generator,epochs=15)"
      ],
      "execution_count": null,
      "outputs": []
    },
    {
      "cell_type": "code",
      "metadata": {
        "id": "2FmJPaxG_7vI",
        "trusted": true
      },
      "source": [
        "model.save('/mydrive/Emotion_Detection/emotion_detector.h5')"
      ],
      "execution_count": null,
      "outputs": []
    },
    {
      "cell_type": "code",
      "metadata": {
        "id": "3gvu6qvB2JRT"
      },
      "source": [
        "#Testing the Model   trained_model.evaluate #For getting metrics on test data set"
      ],
      "execution_count": null,
      "outputs": []
    }
  ]
}